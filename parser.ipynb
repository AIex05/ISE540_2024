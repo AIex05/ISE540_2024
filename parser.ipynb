{
 "cells": [
  {
   "cell_type": "code",
   "execution_count": 1,
   "metadata": {},
   "outputs": [],
   "source": [
    "from selenium import webdriver\n",
    "from selenium.webdriver.common.by import By\n",
    "from selenium.webdriver.support.ui import WebDriverWait\n",
    "from selenium.webdriver.common.by import By\n",
    "from selenium.webdriver.support import expected_conditions as EC\n",
    "from selenium.webdriver.common.keys import Keys\n",
    "import numpy as np\n",
    "import time\n",
    "import os\n",
    "from datetime import date\n",
    "from webdriver_manager.chrome import ChromeDriverManager"
   ]
  },
  {
   "cell_type": "code",
   "execution_count": 3,
   "metadata": {},
   "outputs": [],
   "source": [
    "def open(url):\n",
    "    path = './chromedriver_mac64/chromedriver'\n",
    "    cService = webdriver.ChromeService(executable_path=path)\n",
    "    driver = webdriver.Chrome()\n",
    "    return driver"
   ]
  },
  {
   "cell_type": "code",
   "execution_count": 6,
   "metadata": {},
   "outputs": [],
   "source": [
    "def parse(driver):\n",
    "    try:\n",
    "        # check for check box before create account\n",
    "        review_block = WebDriverWait(driver, 3).until(\n",
    "            EC.presence_of_element_located((By.XPATH, \"\"\"//*/section[@aria-label=\"Recommended Reviews\"]/div/ul/li\"\"\"))\n",
    "        )\n",
    "        driver.execute_script(\"arguments[0].click();\", check_box)\n",
    "    except:\n",
    "        print(\"no checkbox required\")"
   ]
  },
  {
   "cell_type": "code",
   "execution_count": 7,
   "metadata": {},
   "outputs": [
    {
     "name": "stderr",
     "output_type": "stream",
     "text": [
      "\n",
      "KeyboardInterrupt\n",
      "\n"
     ]
    }
   ],
   "source": [
    "login_page_url  = input(\"please enter url: \\n\")\n",
    "driver = open(login_page_url)\n",
    "driver.get(login_page_url)\n",
    "parse(driver)"
   ]
  }
 ],
 "metadata": {
  "kernelspec": {
   "display_name": "base",
   "language": "python",
   "name": "python3"
  },
  "language_info": {
   "codemirror_mode": {
    "name": "ipython",
    "version": 3
   },
   "file_extension": ".py",
   "mimetype": "text/x-python",
   "name": "python",
   "nbconvert_exporter": "python",
   "pygments_lexer": "ipython3",
   "version": "3.11.4"
  }
 },
 "nbformat": 4,
 "nbformat_minor": 2
}
